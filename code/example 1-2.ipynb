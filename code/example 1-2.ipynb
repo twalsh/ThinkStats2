{
 "metadata": {
  "name": "",
  "signature": "sha256:1618ef11c2f6841ee46269735d8d1c21922382300f5dfd6e2523c5d0b5e5f88e"
 },
 "nbformat": 3,
 "nbformat_minor": 0,
 "worksheets": [
  {
   "cells": [
    {
     "cell_type": "code",
     "collapsed": false,
     "input": [
      "import nsfg\n",
      "\n",
      "df = nsfg.ReadFemPreg()\n",
      "df.pregnum.value_counts()\n"
     ],
     "language": "python",
     "metadata": {},
     "outputs": [
      {
       "metadata": {},
       "output_type": "pyout",
       "prompt_number": 9,
       "text": [
        "3     3330\n",
        "2     2864\n",
        "4     2444\n",
        "5     1525\n",
        "1     1267\n",
        "6      900\n",
        "7      560\n",
        "8      320\n",
        "9      189\n",
        "10      90\n",
        "11      33\n",
        "14      28\n",
        "12      24\n",
        "19      19\n",
        "dtype: int64"
       ]
      }
     ],
     "prompt_number": 9
    },
    {
     "cell_type": "code",
     "collapsed": false,
     "input": [
      "\n",
      "\n"
     ],
     "language": "python",
     "metadata": {},
     "outputs": []
    },
    {
     "cell_type": "code",
     "collapsed": false,
     "input": [],
     "language": "python",
     "metadata": {},
     "outputs": []
    }
   ],
   "metadata": {}
  }
 ]
}